{
 "cells": [
  {
   "cell_type": "markdown",
   "metadata": {},
   "source": [
    "# Linear Regression using Gradient Descent\n",
    "\n",
    "y_pred = b0 + b1*x1 + b2*x2 + ...\n",
    "\n",
    "each b coef is calculated at each step as follows: \n",
    "b = b - learning_rate * error * x\n",
    "\n",
    "\n"
   ]
  },
  {
   "cell_type": "code",
   "execution_count": 10,
   "metadata": {},
   "outputs": [],
   "source": [
    "# importing libraries\n",
    "\n",
    "import numpy as np\n",
    "import pandas as pd\n",
    "import matplotlib.pyplot as plt"
   ]
  },
  {
   "cell_type": "code",
   "execution_count": 11,
   "metadata": {},
   "outputs": [],
   "source": [
    "# function to predict a value based on input data and coeffiecients\n",
    "\n",
    "def predict(input_data,coef):\n",
    "    n=len(coef)\n",
    "    y_pred = coef[0]\n",
    "    \n",
    "    for i in range (n-1):\n",
    "        y_pred = y_pred + coef[i+1]*input_data[i]\n",
    "        \n",
    "    return y_pred\n"
   ]
  },
  {
   "cell_type": "code",
   "execution_count": 12,
   "metadata": {},
   "outputs": [],
   "source": [
    "# function to do a gradient descent\n",
    "# we will need 3 loops:\n",
    "# one for each epoch\n",
    "# one for each row in the input_data\n",
    "# one for each coefficient\n",
    "# we also print the error at each epoch\n",
    "\n",
    "def gradient_descent(input_data, learning_rate, n_epochs):\n",
    "    coef = []\n",
    "    for i in range (len(input_data[0])):\n",
    "        coef.append(0.0)\n",
    "        \n",
    "    \n",
    "    for epoch in range (n_epochs):\n",
    "        sum_error = 0\n",
    "        \n",
    "        for row in input_data:\n",
    "            y_pred = predict(row,coef)\n",
    "            error = y_pred - row[len(input_data[0])-1]\n",
    "            sum_error = sum_error + error**2\n",
    "            \n",
    "            coef[0] = coef[0] - learning_rate*error\n",
    "            for i in range (len(coef)-1):\n",
    "                coef[i+1] = coef[i+1] - learning_rate * error * row[i]\n",
    "                \n",
    "        print('>epoch=%d, lrate=%.3f, error=%.3f' % (epoch, l_rate, sum_error))\n",
    "    \n",
    "    return coef"
   ]
  },
  {
   "cell_type": "code",
   "execution_count": 13,
   "metadata": {},
   "outputs": [],
   "source": [
    "# Now it's time to train the data\n",
    "# We'll define a dataset with 3 columns, the first two colums are the independent variables (X) and the \n",
    "# last column is the dependent variable (y) "
   ]
  },
  {
   "cell_type": "code",
   "execution_count": 14,
   "metadata": {},
   "outputs": [
    {
     "name": "stdout",
     "output_type": "stream",
     "text": [
      ">epoch=0, lrate=0.001, error=261.281\n",
      ">epoch=1, lrate=0.001, error=212.935\n",
      ">epoch=2, lrate=0.001, error=173.960\n",
      ">epoch=3, lrate=0.001, error=142.542\n",
      ">epoch=4, lrate=0.001, error=117.215\n",
      ">epoch=5, lrate=0.001, error=96.798\n",
      ">epoch=6, lrate=0.001, error=80.340\n",
      ">epoch=7, lrate=0.001, error=67.073\n",
      ">epoch=8, lrate=0.001, error=56.379\n",
      ">epoch=9, lrate=0.001, error=47.758\n",
      ">epoch=10, lrate=0.001, error=40.809\n",
      ">epoch=11, lrate=0.001, error=35.208\n",
      ">epoch=12, lrate=0.001, error=30.692\n",
      ">epoch=13, lrate=0.001, error=27.053\n",
      ">epoch=14, lrate=0.001, error=24.118\n",
      ">epoch=15, lrate=0.001, error=21.753\n",
      ">epoch=16, lrate=0.001, error=19.845\n",
      ">epoch=17, lrate=0.001, error=18.307\n",
      ">epoch=18, lrate=0.001, error=17.067\n",
      ">epoch=19, lrate=0.001, error=16.067\n",
      ">epoch=20, lrate=0.001, error=15.260\n",
      ">epoch=21, lrate=0.001, error=14.608\n",
      ">epoch=22, lrate=0.001, error=14.083\n",
      ">epoch=23, lrate=0.001, error=13.658\n",
      ">epoch=24, lrate=0.001, error=13.314\n",
      ">epoch=25, lrate=0.001, error=13.037\n",
      ">epoch=26, lrate=0.001, error=12.812\n",
      ">epoch=27, lrate=0.001, error=12.629\n",
      ">epoch=28, lrate=0.001, error=12.481\n",
      ">epoch=29, lrate=0.001, error=12.360\n",
      ">epoch=30, lrate=0.001, error=12.262\n",
      ">epoch=31, lrate=0.001, error=12.181\n",
      ">epoch=32, lrate=0.001, error=12.115\n",
      ">epoch=33, lrate=0.001, error=12.060\n",
      ">epoch=34, lrate=0.001, error=12.015\n",
      ">epoch=35, lrate=0.001, error=11.977\n",
      ">epoch=36, lrate=0.001, error=11.945\n",
      ">epoch=37, lrate=0.001, error=11.918\n",
      ">epoch=38, lrate=0.001, error=11.895\n",
      ">epoch=39, lrate=0.001, error=11.875\n",
      ">epoch=40, lrate=0.001, error=11.857\n",
      ">epoch=41, lrate=0.001, error=11.842\n",
      ">epoch=42, lrate=0.001, error=11.828\n",
      ">epoch=43, lrate=0.001, error=11.815\n",
      ">epoch=44, lrate=0.001, error=11.804\n",
      ">epoch=45, lrate=0.001, error=11.793\n",
      ">epoch=46, lrate=0.001, error=11.783\n",
      ">epoch=47, lrate=0.001, error=11.773\n",
      ">epoch=48, lrate=0.001, error=11.764\n",
      ">epoch=49, lrate=0.001, error=11.755\n",
      "[0.33900097194650164, 1.200141220905863, 0.984048568627933]\n"
     ]
    }
   ],
   "source": [
    "# some data to train\n",
    "\n",
    "dataset = [[1, 1, 2], [2, 3, 5], [4, 3, 7], [3, 2, 9], [5, 5, 11]]\n",
    "l_rate = 0.001\n",
    "n_epoch = 50\n",
    "coef = gradient_descent(dataset, l_rate, n_epoch)\n",
    "print(coef)"
   ]
  },
  {
   "cell_type": "code",
   "execution_count": 15,
   "metadata": {},
   "outputs": [],
   "source": [
    "# We'll define a new list, to_predict, "
   ]
  },
  {
   "cell_type": "code",
   "execution_count": 18,
   "metadata": {},
   "outputs": [
    {
     "name": "stdout",
     "output_type": "stream",
     "text": [
      "[11.692135224171343, 13.108369097355135, 7.107662992825819, 5.691429119642027, 25.349137225446192]\n"
     ]
    }
   ],
   "source": [
    "# some data to predict\n",
    "\n",
    "to_predict = [[7, 3, 1], [9, 2, 5], [4, 2, 1], [2, 3, 4], [11, 12, 12]]\n",
    "\n",
    "predicted_y = []\n",
    "\n",
    "for row in to_predict:\n",
    "    predicted_y.append(predict(row,coef))\n",
    "\n",
    "print(predicted_y)"
   ]
  },
  {
   "cell_type": "code",
   "execution_count": 19,
   "metadata": {},
   "outputs": [],
   "source": [
    "# We'll define an error function to see how well our predict function performed\n",
    "\n",
    "# RMSE - root mean squared error"
   ]
  },
  {
   "cell_type": "code",
   "execution_count": 20,
   "metadata": {},
   "outputs": [
    {
     "name": "stdout",
     "output_type": "stream",
     "text": [
      "RMSE is:  8.926716635307852\n"
     ]
    }
   ],
   "source": [
    "RMSE = 0\n",
    "\n",
    "for i in range (len(to_predict)):\n",
    "    RMSE = RMSE + (to_predict[i][2]-predicted_y[i])**2\n",
    "\n",
    "RMSE = RMSE/len(to_predict)\n",
    "\n",
    "RMSE = np.sqrt(RMSE)\n",
    "\n",
    "print (\"RMSE is: \", RMSE)\n"
   ]
  }
 ],
 "metadata": {
  "kernelspec": {
   "display_name": "Python 3",
   "language": "python",
   "name": "python3"
  },
  "language_info": {
   "codemirror_mode": {
    "name": "ipython",
    "version": 3
   },
   "file_extension": ".py",
   "mimetype": "text/x-python",
   "name": "python",
   "nbconvert_exporter": "python",
   "pygments_lexer": "ipython3",
   "version": "3.7.3"
  }
 },
 "nbformat": 4,
 "nbformat_minor": 2
}

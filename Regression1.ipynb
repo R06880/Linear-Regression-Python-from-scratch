{
 "cells": [
  {
   "cell_type": "markdown",
   "metadata": {},
   "source": [
    "## Linear Regression with only one independent variable (one feature) \n",
    "## The weights (slope and intercept) are calculated using statistical properties, not gradient descent"
   ]
  },
  {
   "cell_type": "raw",
   "metadata": {},
   "source": [
    "We want to minimize the error sum of squares\n",
    "\n",
    "SSE = sum[(yi - yi_est)^2]\n",
    "\n",
    "Where Y_est = B0 + B1*X\n",
    "B0 - the intercept\n",
    "B1 - the slope\n",
    "\n",
    "B1_est = SSxy/SSxx\n",
    "B0_ est = y_mean - B1_est * x_mean"
   ]
  },
  {
   "cell_type": "code",
   "execution_count": 14,
   "metadata": {},
   "outputs": [],
   "source": [
    "# importing libraries\n",
    "\n",
    "import numpy as np\n",
    "import pandas as pd\n",
    "import matplotlib.pyplot as plt"
   ]
  },
  {
   "cell_type": "code",
   "execution_count": 15,
   "metadata": {},
   "outputs": [],
   "source": [
    "# function to calculate SSxy\n",
    "# SSxy is like the covariance between X and Y (without dividing by n)\n",
    "\n",
    "def ssxy(listx,listy):\n",
    "    n = len(listx)\n",
    "    mean_x = np.mean(listx)\n",
    "    mean_y = np.mean(listy)\n",
    "    sumxy = 0\n",
    "    \n",
    "    for i in range (0,n):\n",
    "        sumxy = sumxy+ ((listx[i]-mean_x)*(listy[i]-mean_y))\n",
    "    \n",
    "    return sumxy\n",
    "\n",
    "\n",
    "# function to calculate SSxx\n",
    "# SSxx is like the variance of X (without dividing by n)\n",
    "\n",
    "def ssxx(listx):\n",
    "    n=len(listx)\n",
    "    mean_x = np.mean(listx)\n",
    "    sumxx=0\n",
    "    \n",
    "    for i in range (0,n):\n",
    "        sumxx = sumxx + ((listx[i]-mean_x)**2)\n",
    "    \n",
    "    return sumxx\n",
    "\n",
    "\n",
    "        \n",
    "# function to calculate B1_est - the slope\n",
    "\n",
    "def b1_est(listx,listy):\n",
    "    return ssxy(listx,listy)/ssxx(listx)\n",
    "\n",
    "\n",
    "# function to calculate B0_est - the intercept\n",
    "\n",
    "def b0_est(listx,listy,b1_est):\n",
    "    return np.mean(listy)-(b1_est*np.mean(listx))\n",
    "\n",
    "\n",
    "\n",
    "# function to predict based on B1_est and B0_est\n",
    "\n",
    "def predict(predict_x,b1_est,b0_est):\n",
    "    m = len(predict_x)\n",
    "    predict_y = []\n",
    "    \n",
    "    for i in range (m):\n",
    "        predict_y.append(b0_est + b1_est*predict_x[i])\n",
    "    \n",
    "    return predict_y\n",
    "        \n",
    "    "
   ]
  },
  {
   "cell_type": "raw",
   "metadata": {},
   "source": [
    "Now it's time to train the data\n",
    "We'll define to lists, one for features (X) and one for the predicted variable (Y)"
   ]
  },
  {
   "cell_type": "code",
   "execution_count": 20,
   "metadata": {},
   "outputs": [
    {
     "name": "stdout",
     "output_type": "stream",
     "text": [
      "The slope is:  2.1818181818181817\n",
      "The intercept is:  -3.5999999999999996\n"
     ]
    }
   ],
   "source": [
    "# some data to train\n",
    "\n",
    "listx= np.array([1,2,3,4,5,6,7,8,9,10])\n",
    "listy = np.array([2,2,1,3,14,2,5,15,16,24])\n",
    "\n",
    "b1_esti = b1_est(listx,listy)\n",
    "print('The slope is: ', b1_esti)\n",
    "\n",
    "b0_esti = b0_est(listx,listy,b1_esti)\n",
    "print('The intercept is: ',b0_esti)"
   ]
  },
  {
   "cell_type": "raw",
   "metadata": {},
   "source": [
    "We'll define a new list, predict_x, with values of X for which we want to now the Y"
   ]
  },
  {
   "cell_type": "code",
   "execution_count": 21,
   "metadata": {},
   "outputs": [
    {
     "name": "stdout",
     "output_type": "stream",
     "text": [
      "[20.4, 22.58181818181818, 24.76363636363636, 26.945454545454545, 29.127272727272725]\n"
     ]
    }
   ],
   "source": [
    "# some data to predict\n",
    "\n",
    "predict_x = np.array([11,12,13,14,15])\n",
    "\n",
    "predict_y = predict(predict_x,b1_esti,b0_esti)\n",
    "\n",
    "print(predict_y)\n"
   ]
  },
  {
   "cell_type": "raw",
   "metadata": {},
   "source": [
    "Now let's assume we knew the values for y \n",
    "We'll define an error function to see how well our predict function performed\n",
    "\n",
    "RMSE - root mean squared error"
   ]
  },
  {
   "cell_type": "code",
   "execution_count": 22,
   "metadata": {},
   "outputs": [
    {
     "name": "stdout",
     "output_type": "stream",
     "text": [
      "RMSE is:  3.233655659717007\n"
     ]
    }
   ],
   "source": [
    "y_test = [18, 23, 22, 29, 35]\n",
    "\n",
    "RMSE = 0\n",
    "\n",
    "for i in range (len(y_test)):\n",
    "    RMSE = RMSE + (y_test[i]-predict_y[i])**2\n",
    "\n",
    "RMSE = RMSE/len(y_test)\n",
    "\n",
    "RMSE = np.sqrt(RMSE)\n",
    "\n",
    "print (\"RMSE is: \", RMSE)\n"
   ]
  },
  {
   "cell_type": "raw",
   "metadata": {},
   "source": [
    "It's helpful to see what did our functions"
   ]
  },
  {
   "cell_type": "code",
   "execution_count": 23,
   "metadata": {},
   "outputs": [
    {
     "data": {
      "image/png": "[encoded data removed]",
      "text/plain": [
       "<Figure size 432x288 with 1 Axes>"
      ]
     },
     "metadata": {
      "needs_background": "light"
     },
     "output_type": "display_data"
    }
   ],
   "source": [
    "# Plotting\n",
    "\n",
    "# Plotting Values and Regression Line\n",
    "max_x = np.max(listx) + 10\n",
    "min_x = np.min(listx) - 1\n",
    "\n",
    "# Calculating line values x and y\n",
    "x = np.linspace(min_x, max_x, 1000)\n",
    "y = b0_esti + b1_esti * x \n",
    " \n",
    "# Ploting Line\n",
    "plt.plot(x, y, color=\"green\", label='Regression Line')\n",
    "# Ploting Scatter Points\n",
    "plt.scatter(listx, listy, c=\"red\", label='Training data')\n",
    "plt.scatter(predict_x,predict_y, c=\"blue\", label = 'Predictions')\n",
    "plt.scatter(predict_x,y_test, c=\"orange\", label = 'Actual')\n",
    " \n",
    "plt.xlabel('x_data')\n",
    "plt.ylabel('y_data')\n",
    "plt.legend()\n",
    "plt.show()"
   ]
  },
  {
   "cell_type": "raw",
   "metadata": {},
   "source": [
    "As expected, our predicted values (blue dots) fall on the regression line, following the regression equation"
   ]
  },
  {
   "cell_type": "code",
   "execution_count": null,
   "metadata": {},
   "outputs": [],
   "source": [
    "#### Linear Regression using Gradient Descent #####\n",
    "\n",
    "# y_pred = b0 + b1*x1 + b2*x2 + ...\n",
    "\n",
    "# each b coef is calculated at each step as follows: \n",
    "# b = b - learning_rate*error*x\n"
   ]
  },
  {
   "cell_type": "code",
   "execution_count": 76,
   "metadata": {},
   "outputs": [],
   "source": [
    "# function to predict a value based on input data and coeffiecients\n",
    "\n",
    "def predict(input_data,coef):\n",
    "    n=len(coef)\n",
    "    y_pred = coef[0]\n",
    "    \n",
    "    for i in range (n-1):\n",
    "        y_pred = y_pred + coef[i+1]*input_data[i]\n",
    "        \n",
    "    return y_pred\n"
   ]
  },
  {
   "cell_type": "code",
   "execution_count": 89,
   "metadata": {},
   "outputs": [],
   "source": [
    "# function to do a gradient descent\n",
    "# we will need 3 loops:\n",
    "# one for each epoch\n",
    "# one for each row in the input_data\n",
    "# one for each coefficient\n",
    "\n",
    "def gradient_descent(input_data, learning_rate, n_epochs):\n",
    "    coef = []\n",
    "    for i in range (len(input_data[0])):\n",
    "        coef.append(0.0)\n",
    "        \n",
    "    \n",
    "    for epoch in range (n_epochs):\n",
    "        sum_error = 0\n",
    "        \n",
    "        for row in input_data:\n",
    "            y_pred = predict(row,coef)\n",
    "            error = y_pred - row[len(input_data[0])-1]\n",
    "            sum_error = sum_error + error**2\n",
    "            \n",
    "            coef[0] = coef[0] - learning_rate*error\n",
    "            for i in range (len(coef)-1):\n",
    "                coef[i+1] = coef[i+1] - learning_rate * error * row[i]\n",
    "                \n",
    "        print('>epoch=%d, lrate=%.3f, error=%.3f' % (epoch, l_rate, sum_error))\n",
    "    \n",
    "    return coef"
   ]
  },
  {
   "cell_type": "code",
   "execution_count": 90,
   "metadata": {},
   "outputs": [
    {
     "name": "stdout",
     "output_type": "stream",
     "text": [
      ">epoch=0, lrate=0.001, error=261.281\n",
      ">epoch=1, lrate=0.001, error=212.935\n",
      ">epoch=2, lrate=0.001, error=173.960\n",
      ">epoch=3, lrate=0.001, error=142.542\n",
      ">epoch=4, lrate=0.001, error=117.215\n",
      ">epoch=5, lrate=0.001, error=96.798\n",
      ">epoch=6, lrate=0.001, error=80.340\n",
      ">epoch=7, lrate=0.001, error=67.073\n",
      ">epoch=8, lrate=0.001, error=56.379\n",
      ">epoch=9, lrate=0.001, error=47.758\n",
      ">epoch=10, lrate=0.001, error=40.809\n",
      ">epoch=11, lrate=0.001, error=35.208\n",
      ">epoch=12, lrate=0.001, error=30.692\n",
      ">epoch=13, lrate=0.001, error=27.053\n",
      ">epoch=14, lrate=0.001, error=24.118\n",
      ">epoch=15, lrate=0.001, error=21.753\n",
      ">epoch=16, lrate=0.001, error=19.845\n",
      ">epoch=17, lrate=0.001, error=18.307\n",
      ">epoch=18, lrate=0.001, error=17.067\n",
      ">epoch=19, lrate=0.001, error=16.067\n",
      ">epoch=20, lrate=0.001, error=15.260\n",
      ">epoch=21, lrate=0.001, error=14.608\n",
      ">epoch=22, lrate=0.001, error=14.083\n",
      ">epoch=23, lrate=0.001, error=13.658\n",
      ">epoch=24, lrate=0.001, error=13.314\n",
      ">epoch=25, lrate=0.001, error=13.037\n",
      ">epoch=26, lrate=0.001, error=12.812\n",
      ">epoch=27, lrate=0.001, error=12.629\n",
      ">epoch=28, lrate=0.001, error=12.481\n",
      ">epoch=29, lrate=0.001, error=12.360\n",
      ">epoch=30, lrate=0.001, error=12.262\n",
      ">epoch=31, lrate=0.001, error=12.181\n",
      ">epoch=32, lrate=0.001, error=12.115\n",
      ">epoch=33, lrate=0.001, error=12.060\n",
      ">epoch=34, lrate=0.001, error=12.015\n",
      ">epoch=35, lrate=0.001, error=11.977\n",
      ">epoch=36, lrate=0.001, error=11.945\n",
      ">epoch=37, lrate=0.001, error=11.918\n",
      ">epoch=38, lrate=0.001, error=11.895\n",
      ">epoch=39, lrate=0.001, error=11.875\n",
      ">epoch=40, lrate=0.001, error=11.857\n",
      ">epoch=41, lrate=0.001, error=11.842\n",
      ">epoch=42, lrate=0.001, error=11.828\n",
      ">epoch=43, lrate=0.001, error=11.815\n",
      ">epoch=44, lrate=0.001, error=11.804\n",
      ">epoch=45, lrate=0.001, error=11.793\n",
      ">epoch=46, lrate=0.001, error=11.783\n",
      ">epoch=47, lrate=0.001, error=11.773\n",
      ">epoch=48, lrate=0.001, error=11.764\n",
      ">epoch=49, lrate=0.001, error=11.755\n",
      "[0.33900097194650164, 1.200141220905863, 0.984048568627933]\n"
     ]
    }
   ],
   "source": [
    "dataset = [[1, 1, 2], [2, 3, 5], [4, 3, 7], [3, 2, 9], [5, 5, 11]]\n",
    "l_rate = 0.001\n",
    "n_epoch = 50\n",
    "coef = gradient_descent(dataset, l_rate, n_epoch)\n",
    "print(coef)"
   ]
  },
  {
   "cell_type": "code",
   "execution_count": 91,
   "metadata": {},
   "outputs": [
    {
     "name": "stdout",
     "output_type": "stream",
     "text": [
      "11.692135224171343\n",
      "13.108369097355135\n",
      "7.107662992825819\n",
      "5.691429119642027\n",
      "25.349137225446192\n"
     ]
    }
   ],
   "source": [
    "to_predict = [[7, 3, 1], [9, 2, 5], [4, 2, 1], [2, 3, 4], [11, 12, 12]]\n",
    "\n",
    "for row in to_predict:\n",
    "    print(predict(row,coef))"
   ]
  },
  {
   "cell_type": "code",
   "execution_count": null,
   "metadata": {},
   "outputs": [],
   "source": []
  }
 ],
 "metadata": {
  "kernelspec": {
   "display_name": "Python 3",
   "language": "python",
   "name": "python3"
  },
  "language_info": {
   "codemirror_mode": {
    "name": "ipython",
    "version": 3
   },
   "file_extension": ".py",
   "mimetype": "text/x-python",
   "name": "python",
   "nbconvert_exporter": "python",
   "pygments_lexer": "ipython3",
   "version": "3.7.3"
  }
 },
 "nbformat": 4,
 "nbformat_minor": 2
}
